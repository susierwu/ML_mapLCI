{
 "cells": [
  {
   "cell_type": "markdown",
   "metadata": {},
   "source": [
    "## Mapping FREE Agribalyse_database (raw conventional agricultural products and organic products (at the farm gate)) wh user selected LCIA"
   ]
  },
  {
   "cell_type": "markdown",
   "metadata": {},
   "source": [
    "AGRIBALYSE® data is freely available:\n",
    "https://doc.agribalyse.fr/documentation-en/agribalyse-data/data-access\n",
    "\n",
    "we use ' simplified version, accessible to everyone : '\n",
    "- two spreadsheets for raw conventional agricultural products and organic products (at the farm gate)\n",
    "- a spreadsheet for feed (available soon),\n",
    "- a spreadsheet for ready-to-eat food products.\n",
    "\n",
    "\n",
    "in this notebook, we extract mapping for the \"conventional or organic products (at the farm gate)\", note that unlike \"ready-to-eat\" product where LCIA scores for each life cycle (LC) stage is provided, here, only a single farm-gate LCIA score provided.\n",
    "\n",
    "<b>when downloading farm-gate data,  choose the link in the box (binary type), link from bullet point is broken [as of April 12 2023] </b>\n",
    "\n",
    "\n",
    "LCIA implemented as shown in AGRIBALYSE® spreadsheet: \n",
    "- Score unique EF 3.1 \n",
    "- EF Method 3.0 - implémentation SimaPro (adapted) V1.00 / EF3.0 normalization and weighting set\n",
    "- ref on the LCIA EF3.0: \n",
    "    - https://link.springer.com/article/10.1007/s11367-019-01604-y/tables/1\n",
    "    - https://link.springer.com/article/10.1007/s11367-019-01604-y/tables/3"
   ]
  },
  {
   "cell_type": "code",
   "execution_count": 1,
   "metadata": {},
   "outputs": [],
   "source": [
    "# dataframe tools\n",
    "import pandas as pd\n",
    "import numpy as np\n",
    "from tqdm import tqdm\n",
    "\n",
    "# metrics functions\n",
    "from sklearn.metrics import mean_absolute_percentage_error as mape\n",
    "from sklearn.metrics import r2_score\n",
    "\n",
    "# custom package\n",
    "from caml import config\n",
    "from caml.similarity import MLModel\n",
    "\n",
    "# interactive input tools\n",
    "import ipywidgets as widgets\n",
    "from ipywidgets import VBox\n",
    "import matplotlib.pyplot as plt"
   ]
  },
  {
   "cell_type": "code",
   "execution_count": 2,
   "metadata": {},
   "outputs": [],
   "source": [
    "import sys\n",
    "sys.path.append('../Module')  #a level up & then down to Module folder\n",
    "from lci_ml_mod import *"
   ]
  },
  {
   "cell_type": "markdown",
   "metadata": {},
   "source": [
    "#### below example using organic product"
   ]
  },
  {
   "cell_type": "code",
   "execution_count": 3,
   "metadata": {},
   "outputs": [],
   "source": [
    "agri_df = pd.read_excel(\"data/AGRIBALYSE3.1_partie agriculture_bio_vf.xlsx\", sheet_name =  \"AGB_agri_bio\", header = [1,2])\n",
    "#agri_df.head()"
   ]
  },
  {
   "cell_type": "code",
   "execution_count": 4,
   "metadata": {},
   "outputs": [],
   "source": [
    "#agri_df.columns  # LCIA score: except first 3 cols,also excl col 4 end-indicator -mPt / kg de produit\n",
    "all_lcia = agri_df.columns[4:]\n",
    "#all_lcia\n",
    "#all_lcia[0]"
   ]
  },
  {
   "cell_type": "code",
   "execution_count": 5,
   "metadata": {},
   "outputs": [],
   "source": [
    "# converting French to English\n",
    "IC_name = [\"Climate_change\", \"Ozone_depletion\", \"Ionizing_radiation\", \"Photochemical_ozone_formation\",\n",
    "          \"Particulate_matter\", \"Human_toxicity_non-cancer\", \"Human_toxicity_cancer\", \"Acidification\",\n",
    "          \"Eutrophication_freshwater\", \"Eutrophication_marine\", \"Eutrophication_terrestrial\", \n",
    "          \"Ecotoxicity_freshwater\", \"Land_use\", \"Water_use\", \"Resource_use_fossils\", \"Resource_use_minerals-and-metals\"]"
   ]
  },
  {
   "cell_type": "code",
   "execution_count": 6,
   "metadata": {},
   "outputs": [],
   "source": [
    "lcia_unit = [all_lcia[i][1] for i in list(range(0, len(all_lcia)))] \n",
    "#lcia_unit"
   ]
  },
  {
   "cell_type": "code",
   "execution_count": 7,
   "metadata": {},
   "outputs": [
    {
     "data": {
      "text/plain": [
       "{'Climate_change': 'kg CO2 eq/kg',\n",
       " 'Ozone_depletion': 'kg CFC11 eq/kg',\n",
       " 'Ionizing_radiation': 'kBq U-235 eq/kg',\n",
       " 'Photochemical_ozone_formation': 'kg NMVOC eq/kg',\n",
       " 'Particulate_matter': 'disease inc./kg',\n",
       " 'Human_toxicity_non-cancer': 'CTUh/kg',\n",
       " 'Human_toxicity_cancer': 'CTUh/kg',\n",
       " 'Acidification': 'mol H+ eq/kg',\n",
       " 'Eutrophication_freshwater': 'kg P eq/kg',\n",
       " 'Eutrophication_marine': 'kg N eq/kg',\n",
       " 'Eutrophication_terrestrial': 'mol N eq/kg',\n",
       " 'Ecotoxicity_freshwater': 'CTUe/kg',\n",
       " 'Land_use': 'Pt/kg',\n",
       " 'Water_use': 'm3 depriv./kg',\n",
       " 'Resource_use_fossils': 'MJ/kg',\n",
       " 'Resource_use_minerals-and-metals': 'kg Sb eq/kg'}"
      ]
     },
     "execution_count": 7,
     "metadata": {},
     "output_type": "execute_result"
    }
   ],
   "source": [
    "# store unit for each impact category, will be used for table headers / plotting label\n",
    "dict_IC_unit = {IC_name[i]: lcia_unit[i] for i in range(len(lcia_unit))}\n",
    "dict_IC_unit"
   ]
  },
  {
   "cell_type": "markdown",
   "metadata": {},
   "source": [
    "### Extract all LCI that will be mapped against your input product"
   ]
  },
  {
   "cell_type": "code",
   "execution_count": 8,
   "metadata": {},
   "outputs": [
    {
     "name": "stdout",
     "output_type": "stream",
     "text": [
      "224\n"
     ]
    }
   ],
   "source": [
    "agri_list = agri_df[(\"Unnamed: 1_level_0\",\"LCI Name\")].values  #two headers here, using all lines\n",
    "print(len(agri_list))"
   ]
  },
  {
   "cell_type": "markdown",
   "metadata": {},
   "source": [
    "### User input impact category - directly define in the list, add in as many IC as you like"
   ]
  },
  {
   "cell_type": "code",
   "execution_count": 9,
   "metadata": {},
   "outputs": [],
   "source": [
    "sel_ic_multiple = [\"Water_use\", \"Climate_change\"] #, \"Eutrophication_freshwater\""
   ]
  },
  {
   "cell_type": "markdown",
   "metadata": {},
   "source": [
    "#### Extract all LCIA scores according to user selected impact category, this output will be used in follow-up datatable/plotting"
   ]
  },
  {
   "cell_type": "code",
   "execution_count": 10,
   "metadata": {},
   "outputs": [],
   "source": [
    "#need to add in another parameter all_lcia as its original col_name to screen DF\n",
    "LC_lcia = agribs_farm_gate_extract_lcia(all_lcia, dict_IC_unit, sel_ic_multiple, agri_df)"
   ]
  },
  {
   "cell_type": "markdown",
   "metadata": {},
   "source": [
    "### start ML mapping user input product to the database"
   ]
  },
  {
   "cell_type": "code",
   "execution_count": 11,
   "metadata": {},
   "outputs": [],
   "source": [
    "product_list = [\n",
    "    \"cow milk\",\n",
    "    \"peach\",\n",
    "    \"egg\"\n",
    "]"
   ]
  },
  {
   "cell_type": "code",
   "execution_count": 12,
   "metadata": {},
   "outputs": [],
   "source": [
    "model = MLModel(config.model_name)\n",
    "cosine_scores = model.compute_similarity_scores(product_list, agri_list)"
   ]
  },
  {
   "cell_type": "markdown",
   "metadata": {},
   "source": [
    "### Only see LCI mapped with highest cosine_score, w/h total LCIA score (no seperate LC stage for farm-gate LCI)"
   ]
  },
  {
   "cell_type": "code",
   "execution_count": 13,
   "metadata": {
    "scrolled": true
   },
   "outputs": [
    {
     "data": {
      "text/html": [
       "<div>\n",
       "<style scoped>\n",
       "    .dataframe tbody tr th:only-of-type {\n",
       "        vertical-align: middle;\n",
       "    }\n",
       "\n",
       "    .dataframe tbody tr th {\n",
       "        vertical-align: top;\n",
       "    }\n",
       "\n",
       "    .dataframe thead th {\n",
       "        text-align: right;\n",
       "    }\n",
       "</style>\n",
       "<table border=\"1\" class=\"dataframe\">\n",
       "  <thead>\n",
       "    <tr style=\"text-align: right;\">\n",
       "      <th></th>\n",
       "      <th>your product</th>\n",
       "      <th>AGRIBALYSE_mapped</th>\n",
       "      <th>m3 depriv./kg</th>\n",
       "      <th>cosine_score</th>\n",
       "    </tr>\n",
       "  </thead>\n",
       "  <tbody>\n",
       "    <tr>\n",
       "      <th>0</th>\n",
       "      <td>cow milk</td>\n",
       "      <td>Cow milk, organic, system number 3, at farm gate/FR U</td>\n",
       "      <td>0.115587</td>\n",
       "      <td>0.653</td>\n",
       "    </tr>\n",
       "    <tr>\n",
       "      <th>1</th>\n",
       "      <td>peach</td>\n",
       "      <td>Peach, organic, national average, at orchard/FR U</td>\n",
       "      <td>21.307540</td>\n",
       "      <td>0.555</td>\n",
       "    </tr>\n",
       "    <tr>\n",
       "      <th>2</th>\n",
       "      <td>egg</td>\n",
       "      <td>Egg, organic, at farm gate/FR U</td>\n",
       "      <td>8.772587</td>\n",
       "      <td>0.570</td>\n",
       "    </tr>\n",
       "  </tbody>\n",
       "</table>\n",
       "</div>"
      ],
      "text/plain": [
       "  your product                                      AGRIBALYSE_mapped  \\\n",
       "0     cow milk  Cow milk, organic, system number 3, at farm gate/FR U   \n",
       "1        peach      Peach, organic, national average, at orchard/FR U   \n",
       "2          egg                        Egg, organic, at farm gate/FR U   \n",
       "\n",
       "   m3 depriv./kg  cosine_score  \n",
       "0       0.115587         0.653  \n",
       "1      21.307540         0.555  \n",
       "2       8.772587         0.570  "
      ]
     },
     "execution_count": 13,
     "metadata": {},
     "output_type": "execute_result"
    }
   ],
   "source": [
    "ss = map_agribs_farm_gate_single_lci_wh_lcia(cosine_scores,dict_IC_unit, sel_ic_multiple, product_list, agri_list , LC_lcia)\n",
    "ss[0]"
   ]
  },
  {
   "cell_type": "code",
   "execution_count": 14,
   "metadata": {
    "scrolled": false
   },
   "outputs": [
    {
     "data": {
      "text/html": [
       "<div>\n",
       "<style scoped>\n",
       "    .dataframe tbody tr th:only-of-type {\n",
       "        vertical-align: middle;\n",
       "    }\n",
       "\n",
       "    .dataframe tbody tr th {\n",
       "        vertical-align: top;\n",
       "    }\n",
       "\n",
       "    .dataframe thead th {\n",
       "        text-align: right;\n",
       "    }\n",
       "</style>\n",
       "<table border=\"1\" class=\"dataframe\">\n",
       "  <thead>\n",
       "    <tr style=\"text-align: right;\">\n",
       "      <th></th>\n",
       "      <th>your product</th>\n",
       "      <th>AGRIBALYSE_mapped</th>\n",
       "      <th>kg CO2 eq/kg</th>\n",
       "      <th>cosine_score</th>\n",
       "    </tr>\n",
       "  </thead>\n",
       "  <tbody>\n",
       "    <tr>\n",
       "      <th>0</th>\n",
       "      <td>cow milk</td>\n",
       "      <td>Cow milk, organic, system number 3, at farm gate/FR U</td>\n",
       "      <td>0.800551</td>\n",
       "      <td>0.653</td>\n",
       "    </tr>\n",
       "    <tr>\n",
       "      <th>1</th>\n",
       "      <td>peach</td>\n",
       "      <td>Peach, organic, national average, at orchard/FR U</td>\n",
       "      <td>0.218376</td>\n",
       "      <td>0.555</td>\n",
       "    </tr>\n",
       "    <tr>\n",
       "      <th>2</th>\n",
       "      <td>egg</td>\n",
       "      <td>Egg, organic, at farm gate/FR U</td>\n",
       "      <td>1.726961</td>\n",
       "      <td>0.570</td>\n",
       "    </tr>\n",
       "  </tbody>\n",
       "</table>\n",
       "</div>"
      ],
      "text/plain": [
       "  your product                                      AGRIBALYSE_mapped  \\\n",
       "0     cow milk  Cow milk, organic, system number 3, at farm gate/FR U   \n",
       "1        peach      Peach, organic, national average, at orchard/FR U   \n",
       "2          egg                        Egg, organic, at farm gate/FR U   \n",
       "\n",
       "   kg CO2 eq/kg  cosine_score  \n",
       "0      0.800551         0.653  \n",
       "1      0.218376         0.555  \n",
       "2      1.726961         0.570  "
      ]
     },
     "execution_count": 14,
     "metadata": {},
     "output_type": "execute_result"
    }
   ],
   "source": [
    "ss[1]"
   ]
  },
  {
   "cell_type": "markdown",
   "metadata": {},
   "source": [
    "### If you wanna see first N [here suggest only up to 3 as relatively short inventory list] closest mapped product,  w/h all life cycle stage LCIA impact scores"
   ]
  },
  {
   "cell_type": "code",
   "execution_count": 15,
   "metadata": {},
   "outputs": [],
   "source": [
    "final_result = map_agribs_farm_gate_multiple_lci_wh_lcia(1, cosine_scores,dict_IC_unit, sel_ic_multiple, product_list, agri_list, LC_lcia)"
   ]
  },
  {
   "cell_type": "code",
   "execution_count": 16,
   "metadata": {},
   "outputs": [
    {
     "data": {
      "text/html": [
       "<div>\n",
       "<style scoped>\n",
       "    .dataframe tbody tr th:only-of-type {\n",
       "        vertical-align: middle;\n",
       "    }\n",
       "\n",
       "    .dataframe tbody tr th {\n",
       "        vertical-align: top;\n",
       "    }\n",
       "\n",
       "    .dataframe thead th {\n",
       "        text-align: right;\n",
       "    }\n",
       "</style>\n",
       "<table border=\"1\" class=\"dataframe\">\n",
       "  <thead>\n",
       "    <tr style=\"text-align: right;\">\n",
       "      <th></th>\n",
       "      <th></th>\n",
       "      <th></th>\n",
       "      <th>AGRIBALYSE_mapped</th>\n",
       "      <th>ML_score</th>\n",
       "      <th>farm-gate_total</th>\n",
       "    </tr>\n",
       "    <tr>\n",
       "      <th>your_product</th>\n",
       "      <th></th>\n",
       "      <th></th>\n",
       "      <th></th>\n",
       "      <th></th>\n",
       "      <th></th>\n",
       "    </tr>\n",
       "  </thead>\n",
       "  <tbody>\n",
       "    <tr>\n",
       "      <th>cow milk</th>\n",
       "      <th>Water_use</th>\n",
       "      <th>1</th>\n",
       "      <td>Cow milk, organic, system number 3, at farm gate/FR U</td>\n",
       "      <td>0.653166</td>\n",
       "      <td>0.115587</td>\n",
       "    </tr>\n",
       "    <tr>\n",
       "      <th>peach</th>\n",
       "      <th>Water_use</th>\n",
       "      <th>1</th>\n",
       "      <td>Peach, organic, national average, at orchard/FR U</td>\n",
       "      <td>0.555247</td>\n",
       "      <td>21.307540</td>\n",
       "    </tr>\n",
       "    <tr>\n",
       "      <th>egg</th>\n",
       "      <th>Water_use</th>\n",
       "      <th>1</th>\n",
       "      <td>Egg, organic, at farm gate/FR U</td>\n",
       "      <td>0.570275</td>\n",
       "      <td>8.772587</td>\n",
       "    </tr>\n",
       "  </tbody>\n",
       "</table>\n",
       "</div>"
      ],
      "text/plain": [
       "                                                              AGRIBALYSE_mapped  \\\n",
       "your_product                                                                      \n",
       "cow milk     Water_use 1  Cow milk, organic, system number 3, at farm gate/FR U   \n",
       "peach        Water_use 1      Peach, organic, national average, at orchard/FR U   \n",
       "egg          Water_use 1                        Egg, organic, at farm gate/FR U   \n",
       "\n",
       "                          ML_score  farm-gate_total  \n",
       "your_product                                         \n",
       "cow milk     Water_use 1  0.653166         0.115587  \n",
       "peach        Water_use 1  0.555247        21.307540  \n",
       "egg          Water_use 1  0.570275         8.772587  "
      ]
     },
     "execution_count": 16,
     "metadata": {},
     "output_type": "execute_result"
    }
   ],
   "source": [
    "final_result[0]"
   ]
  },
  {
   "cell_type": "markdown",
   "metadata": {},
   "source": [
    "#### Let's plot out the farm-gate LCIA scores for the multiple IC  for a selected product "
   ]
  },
  {
   "cell_type": "code",
   "execution_count": 17,
   "metadata": {},
   "outputs": [
    {
     "data": {
      "image/png": "[encoded data removed]",
      "text/plain": [
       "<Figure size 432x288 with 1 Axes>"
      ]
     },
     "metadata": {
      "needs_background": "light"
     },
     "output_type": "display_data"
    },
    {
     "data": {
      "image/png": "[encoded data removed]",
      "text/plain": [
       "<Figure size 432x288 with 1 Axes>"
      ]
     },
     "metadata": {
      "needs_background": "light"
     },
     "output_type": "display_data"
    }
   ],
   "source": [
    "# or directly define product name here:\n",
    "name = 'egg'\n",
    "\n",
    "for i, sel_ic in zip( range(len(sel_ic_multiple)), sel_ic_multiple):\n",
    "    plot_df = final_result[i].loc[name,:]\n",
    "    plot_df.plot.bar(legend = None, x=\"AGRIBALYSE_mapped\", y=[\"farm-gate_total\"], \n",
    "                     ylabel = dict_IC_unit.get(sel_ic), figsize=(6,4) )\n",
    "    plt.xticks(rotation = 80)\n",
    "    plt.suptitle((\"Farm-gate LCIA score for \" + \" [\"+ sel_ic + \"] \" + \"for the user input product:\" + name ), fontsize=16)\n",
    "    #plt.title(\"x-axis shows ML scores highest to lowest from left to right\", fontsize=12)\n",
    "    plt.show()"
   ]
  },
  {
   "cell_type": "markdown",
   "metadata": {},
   "source": [
    "### Compare LCIA from product_list in same plot"
   ]
  },
  {
   "cell_type": "code",
   "execution_count": 18,
   "metadata": {
    "scrolled": true
   },
   "outputs": [
    {
     "name": "stderr",
     "output_type": "stream",
     "text": [
      "/var/folders/9p/gvkl7h6551515cs56m93ldgr0000gn/T/ipykernel_3919/3631835052.py:4: FutureWarning: The frame.append method is deprecated and will be removed from pandas in a future version. Use pandas.concat instead.\n",
      "  df_comb=df_comb.append(data,ignore_index=False)\n",
      "/var/folders/9p/gvkl7h6551515cs56m93ldgr0000gn/T/ipykernel_3919/3631835052.py:4: FutureWarning: The frame.append method is deprecated and will be removed from pandas in a future version. Use pandas.concat instead.\n",
      "  df_comb=df_comb.append(data,ignore_index=False)\n"
     ]
    },
    {
     "data": {
      "text/html": [
       "<div>\n",
       "<style scoped>\n",
       "    .dataframe tbody tr th:only-of-type {\n",
       "        vertical-align: middle;\n",
       "    }\n",
       "\n",
       "    .dataframe tbody tr th {\n",
       "        vertical-align: top;\n",
       "    }\n",
       "\n",
       "    .dataframe thead tr th {\n",
       "        text-align: left;\n",
       "    }\n",
       "</style>\n",
       "<table border=\"1\" class=\"dataframe\">\n",
       "  <thead>\n",
       "    <tr>\n",
       "      <th>your_product</th>\n",
       "      <th>cow milk</th>\n",
       "      <th>peach</th>\n",
       "      <th>egg</th>\n",
       "      <th>cow milk</th>\n",
       "      <th>peach</th>\n",
       "      <th>egg</th>\n",
       "    </tr>\n",
       "    <tr>\n",
       "      <th></th>\n",
       "      <th>Water_use</th>\n",
       "      <th>Water_use</th>\n",
       "      <th>Water_use</th>\n",
       "      <th>Climate_change</th>\n",
       "      <th>Climate_change</th>\n",
       "      <th>Climate_change</th>\n",
       "    </tr>\n",
       "    <tr>\n",
       "      <th></th>\n",
       "      <th>1</th>\n",
       "      <th>1</th>\n",
       "      <th>1</th>\n",
       "      <th>1</th>\n",
       "      <th>1</th>\n",
       "      <th>1</th>\n",
       "    </tr>\n",
       "  </thead>\n",
       "  <tbody>\n",
       "    <tr>\n",
       "      <th>AGRIBALYSE_mapped</th>\n",
       "      <td>Cow milk, organic, system number 3, at farm gate/FR U</td>\n",
       "      <td>Peach, organic, national average, at orchard/FR U</td>\n",
       "      <td>Egg, organic, at farm gate/FR U</td>\n",
       "      <td>Cow milk, organic, system number 3, at farm gate/FR U</td>\n",
       "      <td>Peach, organic, national average, at orchard/FR U</td>\n",
       "      <td>Egg, organic, at farm gate/FR U</td>\n",
       "    </tr>\n",
       "    <tr>\n",
       "      <th>ML_score</th>\n",
       "      <td>0.653166</td>\n",
       "      <td>0.555247</td>\n",
       "      <td>0.570275</td>\n",
       "      <td>0.653166</td>\n",
       "      <td>0.555247</td>\n",
       "      <td>0.570275</td>\n",
       "    </tr>\n",
       "    <tr>\n",
       "      <th>farm-gate_total</th>\n",
       "      <td>0.115587</td>\n",
       "      <td>21.30754</td>\n",
       "      <td>8.772587</td>\n",
       "      <td>0.800551</td>\n",
       "      <td>0.218376</td>\n",
       "      <td>1.726961</td>\n",
       "    </tr>\n",
       "  </tbody>\n",
       "</table>\n",
       "</div>"
      ],
      "text/plain": [
       "your_product                                                    cow milk  \\\n",
       "                                                               Water_use   \n",
       "                                                                       1   \n",
       "AGRIBALYSE_mapped  Cow milk, organic, system number 3, at farm gate/FR U   \n",
       "ML_score                                                        0.653166   \n",
       "farm-gate_total                                                 0.115587   \n",
       "\n",
       "your_product                                                   peach  \\\n",
       "                                                           Water_use   \n",
       "                                                                   1   \n",
       "AGRIBALYSE_mapped  Peach, organic, national average, at orchard/FR U   \n",
       "ML_score                                                    0.555247   \n",
       "farm-gate_total                                             21.30754   \n",
       "\n",
       "your_product                                   egg  \\\n",
       "                                         Water_use   \n",
       "                                                 1   \n",
       "AGRIBALYSE_mapped  Egg, organic, at farm gate/FR U   \n",
       "ML_score                                  0.570275   \n",
       "farm-gate_total                           8.772587   \n",
       "\n",
       "your_product                                                    cow milk  \\\n",
       "                                                          Climate_change   \n",
       "                                                                       1   \n",
       "AGRIBALYSE_mapped  Cow milk, organic, system number 3, at farm gate/FR U   \n",
       "ML_score                                                        0.653166   \n",
       "farm-gate_total                                                 0.800551   \n",
       "\n",
       "your_product                                                   peach  \\\n",
       "                                                      Climate_change   \n",
       "                                                                   1   \n",
       "AGRIBALYSE_mapped  Peach, organic, national average, at orchard/FR U   \n",
       "ML_score                                                    0.555247   \n",
       "farm-gate_total                                             0.218376   \n",
       "\n",
       "your_product                                   egg  \n",
       "                                    Climate_change  \n",
       "                                                 1  \n",
       "AGRIBALYSE_mapped  Egg, organic, at farm gate/FR U  \n",
       "ML_score                                  0.570275  \n",
       "farm-gate_total                           1.726961  "
      ]
     },
     "execution_count": 18,
     "metadata": {},
     "output_type": "execute_result"
    }
   ],
   "source": [
    "df_comb = pd.DataFrame()\n",
    "for i in range(len(final_result)):\n",
    "    data = final_result[i]\n",
    "    df_comb=df_comb.append(data,ignore_index=False)\n",
    "df_comb = df_comb.T\n",
    "df_comb"
   ]
  },
  {
   "cell_type": "code",
   "execution_count": 19,
   "metadata": {},
   "outputs": [],
   "source": [
    "comp_name = product_list # or select only several from the list ['cow milk' , 'egg']"
   ]
  },
  {
   "cell_type": "code",
   "execution_count": 20,
   "metadata": {},
   "outputs": [
    {
     "data": {
      "image/png": "[encoded data removed]",
      "text/plain": [
       "<Figure size 864x576 with 1 Axes>"
      ]
     },
     "metadata": {
      "needs_background": "light"
     },
     "output_type": "display_data"
    },
    {
     "data": {
      "image/png": "[encoded data removed]",
      "text/plain": [
       "<Figure size 864x576 with 1 Axes>"
      ]
     },
     "metadata": {
      "needs_background": "light"
     },
     "output_type": "display_data"
    }
   ],
   "source": [
    "for sel_ic in sel_ic_multiple:\n",
    "    plot_df = df_comb.loc[:, ( comp_name,  sel_ic)]\n",
    "    plot_df = plot_df.T.unstack(level=1)\n",
    "    #plot_df.index = plot_df[(\"AGRIBALYSE_mapped\", sel_ic)].values\n",
    "    plot_df = plot_df.set_index(plot_df[(\"AGRIBALYSE_mapped\", sel_ic)].values, append=True) \n",
    "    plot_df.plot.bar(legend=None, y=[\"farm-gate_total\"], figsize=(12,8) )\n",
    "    plt.xticks(rotation = 80)\n",
    "    plt.suptitle((\"Farm-gate LCIA score for \" + \" [\"+ sel_ic + \"] \" + \"to compare the user input products:\" +  str(comp_name) ), fontsize=16)\n",
    "    plt.show()"
   ]
  },
  {
   "cell_type": "code",
   "execution_count": null,
   "metadata": {},
   "outputs": [],
   "source": []
  }
 ],
 "metadata": {
  "kernelspec": {
   "display_name": "Python 3 (ipykernel)",
   "language": "python",
   "name": "python3"
  },
  "language_info": {
   "codemirror_mode": {
    "name": "ipython",
    "version": 3
   },
   "file_extension": ".py",
   "mimetype": "text/x-python",
   "name": "python",
   "nbconvert_exporter": "python",
   "pygments_lexer": "ipython3",
   "version": "3.9.7"
  }
 },
 "nbformat": 4,
 "nbformat_minor": 2
}
