{
 "cells": [
  {
   "cell_type": "markdown",
   "metadata": {},
   "source": [
    "## Mapping ecoinvent_database (EIDB)\n",
    "\n",
    "- combining activity name with reference product, and Geo_location, more accurate, more time to run"
   ]
  },
  {
   "cell_type": "code",
   "execution_count": 1,
   "metadata": {},
   "outputs": [],
   "source": [
    "# dataframe tools\n",
    "import pandas as pd\n",
    "import numpy as np\n",
    "from tqdm import tqdm\n",
    "\n",
    "# metrics functions\n",
    "from sklearn.metrics import mean_absolute_percentage_error as mape\n",
    "from sklearn.metrics import r2_score\n",
    "\n",
    "# custom package\n",
    "from caml import config\n",
    "from caml.similarity import MLModel\n",
    "\n",
    "# interactive input tools\n",
    "import ipywidgets as widgets\n",
    "from ipywidgets import VBox"
   ]
  },
  {
   "cell_type": "code",
   "execution_count": 2,
   "metadata": {},
   "outputs": [],
   "source": [
    "import sys\n",
    "sys.path.append('../Module')  #a level up & then down to Module folder\n",
    "from lci_ml_mod import *"
   ]
  },
  {
   "cell_type": "code",
   "execution_count": 3,
   "metadata": {},
   "outputs": [],
   "source": [
    "# if you have specific version eidb_overview spreadsheet saved to local drive, \n",
    "# eidb_df = pd.read_excel(\"EIDB_38.xlsx\", sheet_name =  \"Cut-Off AO\")\n",
    "\n",
    "# or download from ecoinvent directly, latest version as of Apr16 2023:\n",
    "url = 'https://ecoinvent.org/wp-content/uploads/2022/12/Database-Overview-for-ecoinvent-v3.9.1.xlsx'\n",
    "eidb_df = pd.read_excel(url, sheet_name =  \"Cut-Off AO\")"
   ]
  },
  {
   "cell_type": "code",
   "execution_count": 4,
   "metadata": {},
   "outputs": [
    {
     "name": "stdout",
     "output_type": "stream",
     "text": [
      "Total N of database is 21238, unique Reference products is 3550, and unique activity is 8278\n"
     ]
    }
   ],
   "source": [
    "eidb_list = np.unique(eidb_df[\"Reference Product Name\"].values)\n",
    "eidb_act_list = np.unique(eidb_df[\"Activity Name\"].values)\n",
    "\n",
    "print(\"Total N of database is %d, unique Reference products is %d, and unique activity is %d\"  % ( len(eidb_df), \n",
    "                        len(eidb_list), len(eidb_act_list)))"
   ]
  },
  {
   "cell_type": "markdown",
   "metadata": {},
   "source": [
    "extract all unique activity names (N=8278), and its corresponding reference product (RP) (N=3550, becaz one product can be produced differently in diff. location), the final_list combines RP / Activity_name/ Location, same length as raw edib 21238, will be more accurate, but takes longer to mapping "
   ]
  },
  {
   "cell_type": "code",
   "execution_count": 5,
   "metadata": {},
   "outputs": [],
   "source": [
    "eidb_df[\"Geography\"] = eidb_df[\"Geography\"].astype(str)\n",
    "final_list = eidb_df[[\"Reference Product Name\", \"Activity Name\", \"Geography\"]].apply(\"/\".join, axis=1)"
   ]
  },
  {
   "cell_type": "code",
   "execution_count": 6,
   "metadata": {},
   "outputs": [],
   "source": [
    "final_list = final_list.values"
   ]
  },
  {
   "cell_type": "markdown",
   "metadata": {},
   "source": [
    "#### Using this final_list as the reference list to be mapped, taking longer (e.g. several minutes) since it contains all data entries (N= 21238 for EIDB v3.9 cutoff)"
   ]
  },
  {
   "cell_type": "code",
   "execution_count": 7,
   "metadata": {},
   "outputs": [],
   "source": [
    "product_list = [\n",
    "    \"renewable electricity, hydro, CA-BC\",\n",
    "    \"electricity, at consumer, low-voltage, Shanghai\",\n",
    "    \"electric battery car\",\n",
    "]"
   ]
  },
  {
   "cell_type": "code",
   "execution_count": 8,
   "metadata": {},
   "outputs": [],
   "source": [
    "model = MLModel(config.model_name)\n",
    "cosine_scores = model.compute_similarity_scores(product_list, final_list)"
   ]
  },
  {
   "cell_type": "markdown",
   "metadata": {},
   "source": [
    "### Only see LCI mapped with highest score"
   ]
  },
  {
   "cell_type": "code",
   "execution_count": 9,
   "metadata": {},
   "outputs": [
    {
     "data": {
      "text/html": [
       "<div>\n",
       "<style scoped>\n",
       "    .dataframe tbody tr th:only-of-type {\n",
       "        vertical-align: middle;\n",
       "    }\n",
       "\n",
       "    .dataframe tbody tr th {\n",
       "        vertical-align: top;\n",
       "    }\n",
       "\n",
       "    .dataframe thead th {\n",
       "        text-align: right;\n",
       "    }\n",
       "</style>\n",
       "<table border=\"1\" class=\"dataframe\">\n",
       "  <thead>\n",
       "    <tr style=\"text-align: right;\">\n",
       "      <th></th>\n",
       "      <th>your_product</th>\n",
       "      <th>LCI_mapped</th>\n",
       "      <th>cosine_score</th>\n",
       "    </tr>\n",
       "  </thead>\n",
       "  <tbody>\n",
       "    <tr>\n",
       "      <th>0</th>\n",
       "      <td>renewable electricity, hydro, CA-BC</td>\n",
       "      <td>electricity, high voltage/electricity production, hydro, run-of-river/CA-BC</td>\n",
       "      <td>0.777</td>\n",
       "    </tr>\n",
       "    <tr>\n",
       "      <th>1</th>\n",
       "      <td>electricity, at consumer, low-voltage, Shanghai</td>\n",
       "      <td>electricity, low voltage/market for electricity, low voltage/HK</td>\n",
       "      <td>0.675</td>\n",
       "    </tr>\n",
       "    <tr>\n",
       "      <th>2</th>\n",
       "      <td>electric battery car</td>\n",
       "      <td>electric motor, vehicle/market for electric motor, vehicle/GLO</td>\n",
       "      <td>0.647</td>\n",
       "    </tr>\n",
       "  </tbody>\n",
       "</table>\n",
       "</div>"
      ],
      "text/plain": [
       "                                      your_product  \\\n",
       "0              renewable electricity, hydro, CA-BC   \n",
       "1  electricity, at consumer, low-voltage, Shanghai   \n",
       "2                             electric battery car   \n",
       "\n",
       "                                                                    LCI_mapped  \\\n",
       "0  electricity, high voltage/electricity production, hydro, run-of-river/CA-BC   \n",
       "1              electricity, low voltage/market for electricity, low voltage/HK   \n",
       "2               electric motor, vehicle/market for electric motor, vehicle/GLO   \n",
       "\n",
       "   cosine_score  \n",
       "0         0.777  \n",
       "1         0.675  \n",
       "2         0.647  "
      ]
     },
     "execution_count": 9,
     "metadata": {},
     "output_type": "execute_result"
    }
   ],
   "source": [
    "map_single_lci(cosine_scores = cosine_scores, product_list = product_list, mapdb_list = final_list)"
   ]
  },
  {
   "cell_type": "markdown",
   "metadata": {},
   "source": [
    "### If you wanna see first N [up to 20, define in below n=] closest mapped LCI\n",
    "\n",
    "you see below when define only Shanghai, ML output is not precise, you can try enter more detailed information, e.g., Shanghai, eastern China, as detailed as possible for ML"
   ]
  },
  {
   "cell_type": "code",
   "execution_count": 10,
   "metadata": {},
   "outputs": [
    {
     "data": {
      "text/html": [
       "<div>\n",
       "<style scoped>\n",
       "    .dataframe tbody tr th:only-of-type {\n",
       "        vertical-align: middle;\n",
       "    }\n",
       "\n",
       "    .dataframe tbody tr th {\n",
       "        vertical-align: top;\n",
       "    }\n",
       "\n",
       "    .dataframe thead th {\n",
       "        text-align: right;\n",
       "    }\n",
       "</style>\n",
       "<table border=\"1\" class=\"dataframe\">\n",
       "  <thead>\n",
       "    <tr style=\"text-align: right;\">\n",
       "      <th></th>\n",
       "      <th></th>\n",
       "      <th>LCI_mapped</th>\n",
       "      <th>ML_score</th>\n",
       "    </tr>\n",
       "    <tr>\n",
       "      <th>your_product</th>\n",
       "      <th></th>\n",
       "      <th></th>\n",
       "      <th></th>\n",
       "    </tr>\n",
       "  </thead>\n",
       "  <tbody>\n",
       "    <tr>\n",
       "      <th rowspan=\"5\" valign=\"top\">renewable electricity, hydro, CA-BC</th>\n",
       "      <th>1</th>\n",
       "      <td>electricity, high voltage/electricity production, hydro, run-of-river/CA-BC</td>\n",
       "      <td>0.777025</td>\n",
       "    </tr>\n",
       "    <tr>\n",
       "      <th>2</th>\n",
       "      <td>electricity, high voltage/electricity production, hydro, reservoir, alpine region/CA-BC</td>\n",
       "      <td>0.758516</td>\n",
       "    </tr>\n",
       "    <tr>\n",
       "      <th>3</th>\n",
       "      <td>electricity, high voltage/electricity production, hydro, pumped storage/CA-BC</td>\n",
       "      <td>0.751335</td>\n",
       "    </tr>\n",
       "    <tr>\n",
       "      <th>4</th>\n",
       "      <td>electricity, high voltage/electricity production, wind, &lt;1MW turbine, onshore/CA-BC</td>\n",
       "      <td>0.738592</td>\n",
       "    </tr>\n",
       "    <tr>\n",
       "      <th>5</th>\n",
       "      <td>electricity, high voltage/electricity production, wind, 1-3MW turbine, onshore/CA-BC</td>\n",
       "      <td>0.724321</td>\n",
       "    </tr>\n",
       "    <tr>\n",
       "      <th rowspan=\"5\" valign=\"top\">electricity, at consumer, low-voltage, Shanghai</th>\n",
       "      <th>1</th>\n",
       "      <td>electricity, low voltage/market for electricity, low voltage/HK</td>\n",
       "      <td>0.675108</td>\n",
       "    </tr>\n",
       "    <tr>\n",
       "      <th>2</th>\n",
       "      <td>electricity, medium voltage/market for electricity, medium voltage/HK</td>\n",
       "      <td>0.668968</td>\n",
       "    </tr>\n",
       "    <tr>\n",
       "      <th>3</th>\n",
       "      <td>electricity, low voltage/market for electricity, low voltage/SG</td>\n",
       "      <td>0.665731</td>\n",
       "    </tr>\n",
       "    <tr>\n",
       "      <th>4</th>\n",
       "      <td>electricity, medium voltage/market for electricity, medium voltage/SG</td>\n",
       "      <td>0.649567</td>\n",
       "    </tr>\n",
       "    <tr>\n",
       "      <th>5</th>\n",
       "      <td>electricity, low voltage/market for electricity, low voltage/QA</td>\n",
       "      <td>0.645833</td>\n",
       "    </tr>\n",
       "    <tr>\n",
       "      <th rowspan=\"5\" valign=\"top\">electric battery car</th>\n",
       "      <th>1</th>\n",
       "      <td>electric motor, vehicle/market for electric motor, vehicle/GLO</td>\n",
       "      <td>0.646861</td>\n",
       "    </tr>\n",
       "    <tr>\n",
       "      <th>2</th>\n",
       "      <td>passenger car, electric, without battery/passenger car production, electric, without battery/GLO</td>\n",
       "      <td>0.643587</td>\n",
       "    </tr>\n",
       "    <tr>\n",
       "      <th>3</th>\n",
       "      <td>passenger car, electric, without battery/market for passenger car, electric, without battery/GLO</td>\n",
       "      <td>0.625862</td>\n",
       "    </tr>\n",
       "    <tr>\n",
       "      <th>4</th>\n",
       "      <td>electric motor, electric passenger car/market for electric motor, electric passenger car/GLO</td>\n",
       "      <td>0.625854</td>\n",
       "    </tr>\n",
       "    <tr>\n",
       "      <th>5</th>\n",
       "      <td>electric motor, electric passenger car/electric motor production, vehicle (electric powertrain)/GLO</td>\n",
       "      <td>0.595018</td>\n",
       "    </tr>\n",
       "  </tbody>\n",
       "</table>\n",
       "</div>"
      ],
      "text/plain": [
       "                                                                                                                                            LCI_mapped  \\\n",
       "your_product                                                                                                                                             \n",
       "renewable electricity, hydro, CA-BC             1                          electricity, high voltage/electricity production, hydro, run-of-river/CA-BC   \n",
       "                                                2              electricity, high voltage/electricity production, hydro, reservoir, alpine region/CA-BC   \n",
       "                                                3                        electricity, high voltage/electricity production, hydro, pumped storage/CA-BC   \n",
       "                                                4                  electricity, high voltage/electricity production, wind, <1MW turbine, onshore/CA-BC   \n",
       "                                                5                 electricity, high voltage/electricity production, wind, 1-3MW turbine, onshore/CA-BC   \n",
       "electricity, at consumer, low-voltage, Shanghai 1                                      electricity, low voltage/market for electricity, low voltage/HK   \n",
       "                                                2                                electricity, medium voltage/market for electricity, medium voltage/HK   \n",
       "                                                3                                      electricity, low voltage/market for electricity, low voltage/SG   \n",
       "                                                4                                electricity, medium voltage/market for electricity, medium voltage/SG   \n",
       "                                                5                                      electricity, low voltage/market for electricity, low voltage/QA   \n",
       "electric battery car                            1                                       electric motor, vehicle/market for electric motor, vehicle/GLO   \n",
       "                                                2     passenger car, electric, without battery/passenger car production, electric, without battery/GLO   \n",
       "                                                3     passenger car, electric, without battery/market for passenger car, electric, without battery/GLO   \n",
       "                                                4         electric motor, electric passenger car/market for electric motor, electric passenger car/GLO   \n",
       "                                                5  electric motor, electric passenger car/electric motor production, vehicle (electric powertrain)/GLO   \n",
       "\n",
       "                                                   ML_score  \n",
       "your_product                                                 \n",
       "renewable electricity, hydro, CA-BC             1  0.777025  \n",
       "                                                2  0.758516  \n",
       "                                                3  0.751335  \n",
       "                                                4  0.738592  \n",
       "                                                5  0.724321  \n",
       "electricity, at consumer, low-voltage, Shanghai 1  0.675108  \n",
       "                                                2  0.668968  \n",
       "                                                3  0.665731  \n",
       "                                                4  0.649567  \n",
       "                                                5  0.645833  \n",
       "electric battery car                            1  0.646861  \n",
       "                                                2  0.643587  \n",
       "                                                3  0.625862  \n",
       "                                                4  0.625854  \n",
       "                                                5  0.595018  "
      ]
     },
     "execution_count": 10,
     "metadata": {},
     "output_type": "execute_result"
    }
   ],
   "source": [
    "map_multiple_lci(cosine_scores = cosine_scores, n=5, product_list = product_list, mapdb_list = final_list)"
   ]
  },
  {
   "cell_type": "code",
   "execution_count": null,
   "metadata": {},
   "outputs": [],
   "source": []
  }
 ],
 "metadata": {
  "kernelspec": {
   "display_name": "Python 3 (ipykernel)",
   "language": "python",
   "name": "python3"
  },
  "language_info": {
   "codemirror_mode": {
    "name": "ipython",
    "version": 3
   },
   "file_extension": ".py",
   "mimetype": "text/x-python",
   "name": "python",
   "nbconvert_exporter": "python",
   "pygments_lexer": "ipython3",
   "version": "3.9.7"
  }
 },
 "nbformat": 4,
 "nbformat_minor": 2
}
