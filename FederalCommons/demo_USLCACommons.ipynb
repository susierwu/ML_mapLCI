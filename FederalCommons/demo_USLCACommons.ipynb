{
 "cells": [
  {
   "cell_type": "markdown",
   "metadata": {},
   "source": [
    "## Mapping US Federal Commons  LCI database \n",
    "\n",
    "LCA Commons data repository:\n",
    "- https://www.lcacommons.gov/lca-collaboration/\n",
    "\n",
    "Within the repo, some are for LCIA (e.g.,./ReCiPe, ./TRACI), or EF, we are interested in unit process LCI, and in the notebook, three LCI database was provided for example:\n",
    "\n",
    "\n",
    "- University of Washington Design for Environment Laboratory/Field Crop Production  - <b> 'UW_DfE_crop'</b>\n",
    "- National Renewable Energy Laboratory/USLCI_2023_Q1_v1   - <b>'USLCI'</b>\n",
    "- Federal Highway Administration/MTU Asphalt Pavement Framework    - <b>'Hwy_pavement' </b>\n",
    "\n",
    "You can choose to download your own interested database, e.g., for animal product production, you may interested in University of Arkansas/... \n",
    "\n",
    "Please also note that the total number of datesets shown below each database included all EFs, actors, and other data, and we are only intersted in unit process LCI dataset, e.g., among 7314 data sets for USLCI, 642 are for LCI processes (FY23_Q1version).\n",
    "\n",
    "For USLCI, there is uslci-admin GitHub repo containing all version history with downloadable link (as openLCA .zolca or JSON-LD): https://github.com/uslci-admin/uslci-content/blob/dev/docs/release_info/release-downloads.md\n",
    "   - most updated version (JSON-LD) as of April2023: https://github.com/uslci-admin/uslci-content/blob/dev/downloads/uslci_fy23_q1_01_olca1_10_3_json_ld.zip "
   ]
  },
  {
   "cell_type": "code",
   "execution_count": 1,
   "metadata": {},
   "outputs": [],
   "source": [
    "# dataframe tools\n",
    "import pandas as pd\n",
    "import numpy as np\n",
    "from tqdm import tqdm\n",
    "\n",
    "# metrics functions\n",
    "from sklearn.metrics import mean_absolute_percentage_error as mape\n",
    "from sklearn.metrics import r2_score\n",
    "\n",
    "# custom package\n",
    "from caml import config\n",
    "from caml.similarity import MLModel\n",
    "\n",
    "# interactive input tools\n",
    "import ipywidgets as widgets\n",
    "from ipywidgets import VBox\n",
    "\n",
    "# for readin zipped data (JSON-LD)\n",
    "import glob\n",
    "import json\n",
    "import zipfile\n",
    "import os"
   ]
  },
  {
   "cell_type": "code",
   "execution_count": 2,
   "metadata": {},
   "outputs": [],
   "source": [
    "import sys\n",
    "sys.path.append('../Module')  #a level up & then down to Module folder\n",
    "from lci_ml_mod import *"
   ]
  },
  {
   "cell_type": "markdown",
   "metadata": {},
   "source": [
    "### now select your mapping database, three  available now: \n",
    "- 'UW_DfE_crop'  \n",
    "- 'Hwy_pavement'\n",
    "- 'USLCI'\n",
    "\n",
    "Sector-specific database such as \"Hwy_pavement\" , \"UW_DfE_crop\" will result in a more accurate mapped LCI if you are interested in that specific sector, so put in relevant product list when choose such sector-specific database"
   ]
  },
  {
   "cell_type": "code",
   "execution_count": 3,
   "metadata": {},
   "outputs": [],
   "source": [
    "USCommon = \"Hwy_pavement\"   #UW_DfE_crop    USLCI"
   ]
  },
  {
   "cell_type": "code",
   "execution_count": 4,
   "metadata": {},
   "outputs": [],
   "source": [
    "#create a temperary folder to store unzipped files, then we only interested in the LCI unit process (processes folder)\n",
    "if USCommon == \"USLCI\":\n",
    "    zipfile.ZipFile('data/uslci_fy23_q1_01_olca1_10_3_json_ld.zip').extractall('data/temp_zip/USLCI')\n",
    "    file_location = os.path.join('data/temp_zip/USLCI',  \"processes\", '*.json')\n",
    "elif USCommon == \"Hwy_pavement\":\n",
    "    zipfile.ZipFile('data/Federal_Highway_Administration-mtu_pavement.zip').extractall('data/temp_zip/pavement')\n",
    "    file_location = os.path.join('data/temp_zip/pavement',  \"processes\", '*.json')\n",
    "elif USCommon == \"UW_DfE_crop\":\n",
    "    zipfile.ZipFile('data/U_Washington_Design_for_Environment_Laboratory-Field_crop_production.zip').extractall('data/temp_zip/UWDfE')\n",
    "    file_location = os.path.join('data/temp_zip/UWDfE',  \"processes\", '*.json')"
   ]
  },
  {
   "cell_type": "code",
   "execution_count": 5,
   "metadata": {},
   "outputs": [
    {
     "name": "stdout",
     "output_type": "stream",
     "text": [
      "Hwy_pavement has total 1298 LCI unit processes\n"
     ]
    }
   ],
   "source": [
    "us_list = []\n",
    "i = 0\n",
    "for f in glob.glob(file_location): \n",
    "    with open(f) as jsonfile:\n",
    "        df = json.load(jsonfile)\n",
    "        us_list.append(df['name'])\n",
    "        i += 1\n",
    "print(\"%s has total %d LCI unit processes\" %  (USCommon, i))\n",
    "us_list = np.array(us_list)"
   ]
  },
  {
   "cell_type": "code",
   "execution_count": 6,
   "metadata": {},
   "outputs": [],
   "source": [
    "#since I've read in the data, will delete the temp. created folder\n",
    "import shutil\n",
    "shutil.rmtree(\"data/temp_zip/\")"
   ]
  },
  {
   "cell_type": "markdown",
   "metadata": {},
   "source": [
    "### Enter your product name list and mapping with the selected database\n",
    "- as shown in above code uslci_list.append(df['name']), only dataset name extracted and mapped against your product, freely add in more constrains, e.g., product category code, geo_location etc. \n"
   ]
  },
  {
   "cell_type": "code",
   "execution_count": 7,
   "metadata": {},
   "outputs": [],
   "source": [
    "product_list = [\n",
    "    \"oil sand, produced in Canada Alberta\",\n",
    "    \"asphalt\"\n",
    "]"
   ]
  },
  {
   "cell_type": "code",
   "execution_count": 8,
   "metadata": {},
   "outputs": [],
   "source": [
    "model = MLModel(config.model_name)\n",
    "cosine_scores = model.compute_similarity_scores(product_list, us_list)\n",
    "#check cos_score: cosine_scores.sort(dim=1, descending=True)[1]"
   ]
  },
  {
   "cell_type": "markdown",
   "metadata": {},
   "source": [
    "### Only see LCI mapped with highest cosine_score"
   ]
  },
  {
   "cell_type": "code",
   "execution_count": 9,
   "metadata": {},
   "outputs": [
    {
     "data": {
      "text/html": [
       "<div>\n",
       "<style scoped>\n",
       "    .dataframe tbody tr th:only-of-type {\n",
       "        vertical-align: middle;\n",
       "    }\n",
       "\n",
       "    .dataframe tbody tr th {\n",
       "        vertical-align: top;\n",
       "    }\n",
       "\n",
       "    .dataframe thead th {\n",
       "        text-align: right;\n",
       "    }\n",
       "</style>\n",
       "<table border=\"1\" class=\"dataframe\">\n",
       "  <thead>\n",
       "    <tr style=\"text-align: right;\">\n",
       "      <th></th>\n",
       "      <th>your_product</th>\n",
       "      <th>LCI_mapped</th>\n",
       "      <th>cosine_score</th>\n",
       "    </tr>\n",
       "  </thead>\n",
       "  <tbody>\n",
       "    <tr>\n",
       "      <th>0</th>\n",
       "      <td>oil sand, produced in Canada Alberta</td>\n",
       "      <td>Crude oil, extracted</td>\n",
       "      <td>0.690</td>\n",
       "    </tr>\n",
       "    <tr>\n",
       "      <th>1</th>\n",
       "      <td>asphalt</td>\n",
       "      <td>Asphalt mix 2 - 15% RAP, 3% RAS virgin liquid asphalt binder</td>\n",
       "      <td>0.682</td>\n",
       "    </tr>\n",
       "  </tbody>\n",
       "</table>\n",
       "</div>"
      ],
      "text/plain": [
       "                           your_product  \\\n",
       "0  oil sand, produced in Canada Alberta   \n",
       "1                               asphalt   \n",
       "\n",
       "                                                     LCI_mapped  cosine_score  \n",
       "0                                          Crude oil, extracted         0.690  \n",
       "1  Asphalt mix 2 - 15% RAP, 3% RAS virgin liquid asphalt binder         0.682  "
      ]
     },
     "execution_count": 9,
     "metadata": {},
     "output_type": "execute_result"
    }
   ],
   "source": [
    "map_single_lci(cosine_scores = cosine_scores, product_list = product_list, mapdb_list = us_list)"
   ]
  },
  {
   "cell_type": "markdown",
   "metadata": {},
   "source": [
    "### If you wanna see first N [up to 20, define in below n=] closest mapped LCI"
   ]
  },
  {
   "cell_type": "code",
   "execution_count": 10,
   "metadata": {},
   "outputs": [
    {
     "data": {
      "text/html": [
       "<div>\n",
       "<style scoped>\n",
       "    .dataframe tbody tr th:only-of-type {\n",
       "        vertical-align: middle;\n",
       "    }\n",
       "\n",
       "    .dataframe tbody tr th {\n",
       "        vertical-align: top;\n",
       "    }\n",
       "\n",
       "    .dataframe thead th {\n",
       "        text-align: right;\n",
       "    }\n",
       "</style>\n",
       "<table border=\"1\" class=\"dataframe\">\n",
       "  <thead>\n",
       "    <tr style=\"text-align: right;\">\n",
       "      <th></th>\n",
       "      <th></th>\n",
       "      <th>LCI_mapped</th>\n",
       "      <th>ML_score</th>\n",
       "    </tr>\n",
       "    <tr>\n",
       "      <th>your_product</th>\n",
       "      <th></th>\n",
       "      <th></th>\n",
       "      <th></th>\n",
       "    </tr>\n",
       "  </thead>\n",
       "  <tbody>\n",
       "    <tr>\n",
       "      <th rowspan=\"5\" valign=\"top\">oil sand, produced in Canada Alberta</th>\n",
       "      <th>1</th>\n",
       "      <td>Crude oil, extracted</td>\n",
       "      <td>0.690039</td>\n",
       "    </tr>\n",
       "    <tr>\n",
       "      <th>2</th>\n",
       "      <td>Crude oil, at production</td>\n",
       "      <td>0.681982</td>\n",
       "    </tr>\n",
       "    <tr>\n",
       "      <th>3</th>\n",
       "      <td>Petroleum refined, for material use, at plant</td>\n",
       "      <td>0.593650</td>\n",
       "    </tr>\n",
       "    <tr>\n",
       "      <th>4</th>\n",
       "      <td>Crude palm kernel oil, at plant</td>\n",
       "      <td>0.592934</td>\n",
       "    </tr>\n",
       "    <tr>\n",
       "      <th>5</th>\n",
       "      <td>Petroleum refined, for energy use, at plant</td>\n",
       "      <td>0.588461</td>\n",
       "    </tr>\n",
       "    <tr>\n",
       "      <th rowspan=\"5\" valign=\"top\">asphalt</th>\n",
       "      <th>1</th>\n",
       "      <td>Asphalt mix 2 - 15% RAP, 3% RAS virgin liquid asphalt binder</td>\n",
       "      <td>0.682250</td>\n",
       "    </tr>\n",
       "    <tr>\n",
       "      <th>2</th>\n",
       "      <td>Portable asphalt mix</td>\n",
       "      <td>0.664850</td>\n",
       "    </tr>\n",
       "    <tr>\n",
       "      <th>3</th>\n",
       "      <td>Asphalt binder, no additives, consumption mix, at terminal, from crude oil</td>\n",
       "      <td>0.648857</td>\n",
       "    </tr>\n",
       "    <tr>\n",
       "      <th>4</th>\n",
       "      <td>Asphalt mix 1 - virgin mix</td>\n",
       "      <td>0.645278</td>\n",
       "    </tr>\n",
       "    <tr>\n",
       "      <th>5</th>\n",
       "      <td>Asphalt mix 2 - 15% RAP, 3% RAS liquid asphalt binder with SBS</td>\n",
       "      <td>0.638938</td>\n",
       "    </tr>\n",
       "  </tbody>\n",
       "</table>\n",
       "</div>"
      ],
      "text/plain": [
       "                                                                                                        LCI_mapped  \\\n",
       "your_product                                                                                                         \n",
       "oil sand, produced in Canada Alberta 1                                                        Crude oil, extracted   \n",
       "                                     2                                                    Crude oil, at production   \n",
       "                                     3                               Petroleum refined, for material use, at plant   \n",
       "                                     4                                             Crude palm kernel oil, at plant   \n",
       "                                     5                                 Petroleum refined, for energy use, at plant   \n",
       "asphalt                              1                Asphalt mix 2 - 15% RAP, 3% RAS virgin liquid asphalt binder   \n",
       "                                     2                                                        Portable asphalt mix   \n",
       "                                     3  Asphalt binder, no additives, consumption mix, at terminal, from crude oil   \n",
       "                                     4                                                  Asphalt mix 1 - virgin mix   \n",
       "                                     5              Asphalt mix 2 - 15% RAP, 3% RAS liquid asphalt binder with SBS   \n",
       "\n",
       "                                        ML_score  \n",
       "your_product                                      \n",
       "oil sand, produced in Canada Alberta 1  0.690039  \n",
       "                                     2  0.681982  \n",
       "                                     3  0.593650  \n",
       "                                     4  0.592934  \n",
       "                                     5  0.588461  \n",
       "asphalt                              1  0.682250  \n",
       "                                     2  0.664850  \n",
       "                                     3  0.648857  \n",
       "                                     4  0.645278  \n",
       "                                     5  0.638938  "
      ]
     },
     "execution_count": 10,
     "metadata": {},
     "output_type": "execute_result"
    }
   ],
   "source": [
    "map_multiple_lci(cosine_scores =cosine_scores, n=5, product_list = product_list, mapdb_list = us_list)"
   ]
  },
  {
   "cell_type": "code",
   "execution_count": null,
   "metadata": {},
   "outputs": [],
   "source": []
  }
 ],
 "metadata": {
  "kernelspec": {
   "display_name": "Python 3 (ipykernel)",
   "language": "python",
   "name": "python3"
  },
  "language_info": {
   "codemirror_mode": {
    "name": "ipython",
    "version": 3
   },
   "file_extension": ".py",
   "mimetype": "text/x-python",
   "name": "python",
   "nbconvert_exporter": "python",
   "pygments_lexer": "ipython3",
   "version": "3.9.7"
  }
 },
 "nbformat": 4,
 "nbformat_minor": 2
}
